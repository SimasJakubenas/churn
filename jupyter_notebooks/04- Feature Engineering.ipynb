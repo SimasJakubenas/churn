{
 "cells": [
  {
   "cell_type": "markdown",
   "metadata": {},
   "source": [
    "# Feature Engineering Notebook"
   ]
  },
  {
   "cell_type": "markdown",
   "metadata": {},
   "source": [
    "## Objectives\n",
    "\n",
    "*   Engineer features for Classification and Cluster models\n",
    "\n",
    "\n",
    "## Inputs\n",
    "\n",
    "* outputs/datasets/cleaned/x_train_cleaned.csv\n",
    "* outputs/datasets/cleaned/x_test_cleaned.csv\n",
    "* outputs/datasets/cleaned/y_train_cleaned.csv\n",
    "* outputs/datasets/cleaned/y_test_cleaned.csv\n",
    "\n",
    "## Outputs\n",
    "\n",
    "* Encode categorical variable and perform normalization\n",
    "* Perform PCA\n",
    "\n",
    "## Conclusions\n"
   ]
  },
  {
   "cell_type": "markdown",
   "metadata": {},
   "source": [
    "---"
   ]
  },
  {
   "cell_type": "markdown",
   "metadata": {},
   "source": [
    "# Change working directory"
   ]
  },
  {
   "cell_type": "markdown",
   "metadata": {},
   "source": [
    "Since jupyter notebooks are in a subfolder we need to change the working directory from its current folder to its parent folder\n",
    "* We access the current directory with os.getcwd()"
   ]
  },
  {
   "cell_type": "code",
   "execution_count": null,
   "metadata": {},
   "outputs": [],
   "source": [
    "import os\n",
    "current_dir = os.getcwd()\n",
    "current_dir"
   ]
  },
  {
   "cell_type": "markdown",
   "metadata": {},
   "source": [
    "We want to make the parent of the current directory the new current directory\n",
    "* os.path.dirname() gets the parent directory\n",
    "* os.chir() defines the new current directory"
   ]
  },
  {
   "cell_type": "code",
   "execution_count": null,
   "metadata": {},
   "outputs": [],
   "source": [
    "os.chdir(os.path.dirname(current_dir))\n",
    "print(\"You set a new current directory\")"
   ]
  },
  {
   "cell_type": "markdown",
   "metadata": {},
   "source": [
    "Confirm the new current directory"
   ]
  },
  {
   "cell_type": "code",
   "execution_count": null,
   "metadata": {},
   "outputs": [],
   "source": [
    "current_dir = os.getcwd()\n",
    "current_dir"
   ]
  },
  {
   "cell_type": "markdown",
   "metadata": {},
   "source": [
    "---"
   ]
  },
  {
   "cell_type": "markdown",
   "metadata": {},
   "source": [
    "# Load Cleaned Data"
   ]
  },
  {
   "cell_type": "markdown",
   "metadata": {},
   "source": [
    "Train Set"
   ]
  },
  {
   "cell_type": "code",
   "execution_count": null,
   "metadata": {},
   "outputs": [],
   "source": [
    "import pandas as pd\n",
    "x_train_path = \"outputs/datasets/cleaned/x_train_cleaned.csv\"\n",
    "y_train_path = \"outputs/datasets/cleaned/y_train_cleaned.csv\"\n",
    "x_train = pd.read_csv(x_train_path)\n",
    "y_train = pd.read_csv(y_train_path)\n",
    "x_train.head(3)"
   ]
  },
  {
   "cell_type": "markdown",
   "metadata": {},
   "source": [
    "Test Set"
   ]
  },
  {
   "cell_type": "code",
   "execution_count": null,
   "metadata": {},
   "outputs": [],
   "source": [
    "import pandas as pd\n",
    "x_test_path = \"outputs/datasets/cleaned/x_test_cleaned.csv\"\n",
    "y_test_path = \"outputs/datasets/cleaned/y_test_cleaned.csv\"\n",
    "x_test = pd.read_csv(x_test_path)\n",
    "y_test = pd.read_csv(y_test_path)\n",
    "x_test.head(3)"
   ]
  },
  {
   "cell_type": "markdown",
   "metadata": {},
   "source": [
    "# Feature Engineering"
   ]
  },
  {
   "cell_type": "markdown",
   "metadata": {},
   "source": [
    "* We noticed one ordinal-categorical variable 'Contract' we will use ordinal encoder for it."
   ]
  },
  {
   "cell_type": "code",
   "execution_count": null,
   "metadata": {},
   "outputs": [],
   "source": [
    "from sklearn.preprocessing import OrdinalEncoder\n",
    "\n",
    "ordinal_categorical = ['Contract']\n",
    "encoder = OrdinalEncoder(categories=[list(x_train['Contract'].unique())])\n",
    "x_train[ordinal_categorical] = encoder.fit_transform(x_train[ordinal_categorical])\n",
    "x_test[ordinal_categorical] = encoder.fit_transform(x_test[ordinal_categorical])"
   ]
  },
  {
   "cell_type": "markdown",
   "metadata": {},
   "source": [
    "* Other categorical variables will be transformed with OneHotEncoder."
   ]
  },
  {
   "cell_type": "code",
   "execution_count": null,
   "metadata": {},
   "outputs": [],
   "source": [
    "from feature_engine.encoding import OneHotEncoder\n",
    "\n",
    "categorical_vars = x_train.columns[x_train.dtypes=='object'].to_list()\n",
    "nominal_categorical = [var for var in categorical_vars if var not in ordinal_categorical]\n",
    "encoder = OneHotEncoder(variables=nominal_categorical, drop_last=True)\n",
    "x_train_encoded = encoder.fit_transform(x_train)\n",
    "x_test_encoded = encoder.fit_transform(x_test)\n",
    "print(x_train_encoded.shape)\n",
    "x_train_encoded.head(3)"
   ]
  },
  {
   "cell_type": "markdown",
   "metadata": {},
   "source": [
    "* We will normalize the data"
   ]
  },
  {
   "cell_type": "code",
   "execution_count": null,
   "metadata": {},
   "outputs": [],
   "source": [
    "from sklearn.preprocessing import MinMaxScaler\n",
    "\n",
    "scaler = MinMaxScaler()\n",
    "x_train_enc_norm = pd.DataFrame(scaler.fit_transform(x_train_encoded), columns=x_train_encoded.columns)\n",
    "x_test_enc_norm = pd.DataFrame(scaler.fit_transform(x_test_encoded), columns=x_test_encoded.columns)\n",
    "x_train_enc_norm.head(3)"
   ]
  },
  {
   "cell_type": "markdown",
   "metadata": {},
   "source": [
    "---"
   ]
  },
  {
   "cell_type": "markdown",
   "metadata": {},
   "source": [
    "# Push cleaned data to Repo"
   ]
  },
  {
   "cell_type": "code",
   "execution_count": null,
   "metadata": {},
   "outputs": [],
   "source": [
    "import os\n",
    "try:\n",
    "  os.makedirs(name='outputs/datasets/engineered') # create outputs/datasets/engineered folder\n",
    "except Exception as e:\n",
    "  print(e)\n"
   ]
  },
  {
   "cell_type": "markdown",
   "metadata": {},
   "source": [
    "## Train Set"
   ]
  },
  {
   "cell_type": "code",
   "execution_count": null,
   "metadata": {},
   "outputs": [],
   "source": [
    "x_train.to_csv(\"outputs/datasets/engineered/x_train_cleaned.csv\", index=False)\n",
    "y_train.to_csv(\"outputs/datasets/engineered/y_train_cleaned.csv\", index=False)"
   ]
  },
  {
   "cell_type": "markdown",
   "metadata": {},
   "source": [
    "## Test Set"
   ]
  },
  {
   "cell_type": "code",
   "execution_count": null,
   "metadata": {},
   "outputs": [],
   "source": [
    "x_test.to_csv(\"outputs/datasets/engineered/x_test_cleaned.csv\", index=False)\n",
    "y_test.to_csv(\"outputs/datasets/engineered/y_test_cleaned.csv\", index=False)"
   ]
  }
 ],
 "metadata": {
  "kernelspec": {
   "display_name": ".venv",
   "language": "python",
   "name": "python3"
  },
  "language_info": {
   "codemirror_mode": {
    "name": "ipython",
    "version": 3
   },
   "file_extension": ".py",
   "mimetype": "text/x-python",
   "name": "python",
   "nbconvert_exporter": "python",
   "pygments_lexer": "ipython3",
   "version": "3.12.7"
  }
 },
 "nbformat": 4,
 "nbformat_minor": 2
}
