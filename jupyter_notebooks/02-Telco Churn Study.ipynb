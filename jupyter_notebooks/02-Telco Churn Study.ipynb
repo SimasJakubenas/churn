{
 "cells": [
  {
   "cell_type": "markdown",
   "metadata": {},
   "source": [
    "# **Telco Churn Study Notebook**"
   ]
  },
  {
   "cell_type": "markdown",
   "metadata": {},
   "source": [
    "## Objectives\n",
    "\n",
    "* Answer business requirement 1:\n",
    "    * The client is interested to understand how different variables affect customer churn.\n",
    "\n",
    "## Inputs\n",
    "\n",
    "* outputs/datasets/collection/WA_Fn-UseC_-Telco-Customer-Churn.csv\n",
    "\n",
    "## Outputs\n",
    "\n",
    "* Generate code that answers business requirement 1"
   ]
  },
  {
   "cell_type": "markdown",
   "metadata": {},
   "source": [
    "---"
   ]
  },
  {
   "cell_type": "markdown",
   "metadata": {},
   "source": [
    "# Change working directory"
   ]
  },
  {
   "cell_type": "markdown",
   "metadata": {},
   "source": [
    "Since jupyter notebooks are in a subfolder we need to change the working directory from its current folder to its parent folder\n",
    "* We access the current directory with os.getcwd()"
   ]
  },
  {
   "cell_type": "code",
   "execution_count": null,
   "metadata": {},
   "outputs": [],
   "source": [
    "import os\n",
    "current_dir = os.getcwd()\n",
    "current_dir"
   ]
  },
  {
   "cell_type": "markdown",
   "metadata": {},
   "source": [
    "We want to make the parent of the current directory the new current directory\n",
    "* os.path.dirname() gets the parent directory\n",
    "* os.chir() defines the new current directory"
   ]
  },
  {
   "cell_type": "code",
   "execution_count": null,
   "metadata": {},
   "outputs": [],
   "source": [
    "os.chdir(os.path.dirname(current_dir))\n",
    "print(\"You set a new current directory\")"
   ]
  },
  {
   "cell_type": "markdown",
   "metadata": {},
   "source": [
    "Confirm the new current directory"
   ]
  },
  {
   "cell_type": "code",
   "execution_count": null,
   "metadata": {},
   "outputs": [],
   "source": [
    "current_dir = os.getcwd()\n",
    "current_dir"
   ]
  },
  {
   "cell_type": "markdown",
   "metadata": {},
   "source": [
    "# Load Data"
   ]
  },
  {
   "cell_type": "code",
   "execution_count": null,
   "metadata": {},
   "outputs": [],
   "source": [
    "import pandas as pd\n",
    "import glob\n",
    "output_folder = \"outputs/datasets/collection\"\n",
    "csv_files = glob.glob(f\"{output_folder}/*.csv\")\n",
    "print(csv_files)\n",
    "df = pd.read_csv(csv_files[0]).drop('customerID', axis=1)\n",
    "df.head(5)"
   ]
  },
  {
   "cell_type": "markdown",
   "metadata": {},
   "source": [
    "---"
   ]
  },
  {
   "cell_type": "markdown",
   "metadata": {},
   "source": [
    "# Data Exploration"
   ]
  },
  {
   "cell_type": "markdown",
   "metadata": {},
   "source": [
    "* We are interested in getting more familiar with the dataset, checking variable type and distribution, missing levels and what these variables mean in a clinical context"
   ]
  },
  {
   "cell_type": "code",
   "execution_count": null,
   "metadata": {},
   "outputs": [],
   "source": [
    "from ydata_profiling import ProfileReport\n",
    "pandas_report = ProfileReport(df=df, minimal=True)\n",
    "pandas_report.to_notebook_iframe()"
   ]
  },
  {
   "cell_type": "markdown",
   "metadata": {},
   "source": [
    "* In data profiling we noticed that tenure has a few entries with value = 0 in case of error\n",
    "* We will draw a count plot to see the distribution"
   ]
  },
  {
   "cell_type": "code",
   "execution_count": null,
   "metadata": {},
   "outputs": [],
   "source": [
    "import matplotlib.pyplot as plt\n",
    "import seaborn as sns\n",
    "sns.set_style('whitegrid')\n",
    "# Enable inline plotting in Jupyter Notebook\n",
    "%matplotlib inline \n",
    "\n",
    "plt.figure(figsize=(12, 5))\n",
    "sns.countplot(data = df, x=df['tenure'])\n",
    "plt.xticks(rotation=90)\n",
    "plt.show()\n"
   ]
  },
  {
   "cell_type": "markdown",
   "metadata": {},
   "source": [
    "* We will list all the entries with tenure = 0"
   ]
  },
  {
   "cell_type": "code",
   "execution_count": null,
   "metadata": {},
   "outputs": [],
   "source": [
    "df_tenure = df[df['tenure'] == 0]\n",
    "df_tenure"
   ]
  },
  {
   "cell_type": "markdown",
   "metadata": {},
   "source": [
    "These entries appears to be new customers that has been with the company less than one month.  \n",
    "TotalCharges variable has an empty string as value this explains our questions from the previous notebook:\n",
    "* TotalCharges having emplty fields\n",
    "* TotalCharges variable having type of object"
   ]
  },
  {
   "cell_type": "markdown",
   "metadata": {},
   "source": [
    "# Correlation Study"
   ]
  },
  {
   "cell_type": "code",
   "execution_count": null,
   "metadata": {},
   "outputs": [],
   "source": [
    "\n",
    "from sklearn.preprocessing import LabelEncoder\n",
    "\n",
    "le = LabelEncoder()\n",
    "\n",
    "df_cat = df.select_dtypes(include=['object', 'category'])\n",
    "df_cat_vars = list(df_cat.columns) # Save list of categorical values\n",
    "\n",
    "for column in df_cat.columns:\n",
    "    df_cat[column] = le.fit_transform(df_cat[column])\n",
    "\n",
    "df_merged = df.drop(columns=df.columns.intersection(df_cat.columns)).join(df_cat)\n",
    "df_merged.head()"
   ]
  },
  {
   "cell_type": "markdown",
   "metadata": {},
   "source": [
    "We use `.corr()` for `spearman` and `pearson` methods, and investigate the top 10 correlations\n",
    "* We know this command returns a pandas series and the first item is the correlation between Churn and Churn, which happens to be 1, so we exclude that with `[1:]`\n",
    "* We sort values considering the absolute value, by setting `key=abs`"
   ]
  },
  {
   "cell_type": "code",
   "execution_count": null,
   "metadata": {},
   "outputs": [],
   "source": [
    "corr_spearman = df_merged.corr(method='spearman')['Churn'].sort_values(key=abs, ascending=False)[1:].head(10)\n",
    "corr_spearman"
   ]
  },
  {
   "cell_type": "code",
   "execution_count": null,
   "metadata": {},
   "outputs": [],
   "source": [
    "corr_pearson = df_merged.corr(method='pearson')['Churn'].sort_values(key=abs, ascending=False)[1:].head(10)\n",
    "corr_pearson"
   ]
  },
  {
   "cell_type": "markdown",
   "metadata": {},
   "source": [
    "* For both methods, we notice weak or moderate levels of correlation between Churn and a given variable. \n",
    "* Ideally, we pursue strong correlation levels. However, this is not always possible.\n",
    "* We will consider the top five correlation levels at `df_merged` and will study the associated variables at `df`"
   ]
  },
  {
   "cell_type": "code",
   "execution_count": null,
   "metadata": {},
   "outputs": [],
   "source": [
    "top_n = 6\n",
    "combined_list = corr_pearson[:top_n].index.to_list() + corr_spearman[:top_n].index.to_list()\n",
    "vars_to_study = list(set(combined_list))\n",
    "vars_to_study"
   ]
  },
  {
   "cell_type": "markdown",
   "metadata": {},
   "source": [
    "---"
   ]
  },
  {
   "cell_type": "markdown",
   "metadata": {},
   "source": [
    "# EDA on selected variables"
   ]
  },
  {
   "cell_type": "code",
   "execution_count": null,
   "metadata": {},
   "outputs": [],
   "source": [
    "df_eda = df_merged.filter(vars_to_study + ['Churn'])\n",
    "df_eda.head(3)"
   ]
  },
  {
   "cell_type": "markdown",
   "metadata": {},
   "source": [
    "## Variables Distribution by Churn"
   ]
  },
  {
   "cell_type": "markdown",
   "metadata": {},
   "source": [
    "We plot the distribution (numerical and categorical) coloured by Churn"
   ]
  },
  {
   "cell_type": "code",
   "execution_count": null,
   "metadata": {},
   "outputs": [],
   "source": [
    "import matplotlib.pyplot as plt\n",
    "import seaborn as sns\n",
    "sns.set_style('whitegrid')\n",
    "\n",
    "target = df['Churn']\n",
    "def plot_categorical(df, col, target):\n",
    "\n",
    "    plt.figure(figsize=(12, 5))\n",
    "    sns.countplot(data=df, x=col, hue=target)\n",
    "    plt.title(f\"{col}\", fontsize=25)\n",
    "    plt.show()\n",
    "\n",
    "\n",
    "def plot_numerical(df, col, target):\n",
    "    plt.figure(figsize=(12, 5))\n",
    "    sns.histplot(data=df, x=col, hue=target, kde=True, element=\"step\", bins=24)\n",
    "    plt.title(f\"{col}\", fontsize=25)\n",
    "    plt.show()\n",
    "\n",
    "\n",
    "for col in vars_to_study:\n",
    "    cat_vars_to_study = list(set(vars_to_study) & set(df_cat_vars))\n",
    "    if col in cat_vars_to_study:\n",
    "        plot_categorical(df, col, target)\n",
    "        print(\"\\n\\n\")\n",
    "    else:\n",
    "        plot_numerical(df, col, target)\n",
    "        print(\"\\n\\n\")\n",
    "df_cat_vars"
   ]
  },
  {
   "cell_type": "markdown",
   "metadata": {},
   "source": [
    "---"
   ]
  },
  {
   "cell_type": "markdown",
   "metadata": {},
   "source": [
    "## Parallel Plot"
   ]
  },
  {
   "cell_type": "markdown",
   "metadata": {},
   "source": [
    "Create a separate DataFrame and transform `tenure` (numerical) into bins (categorical) for visualising at `parallel_categories()` plot"
   ]
  },
  {
   "cell_type": "code",
   "execution_count": null,
   "metadata": {},
   "outputs": [],
   "source": [
    "from feature_engine.discretisation import ArbitraryDiscretiser\n",
    "import numpy as np\n",
    "tenure_map = [-np.inf, 6, 12, 18, 24, np.inf]\n",
    "disc = ArbitraryDiscretiser(binning_dict={'tenure': tenure_map})\n",
    "df_parallel = disc.fit_transform(df_eda)\n",
    "df_parallel.head()"
   ]
  },
  {
   "cell_type": "code",
   "execution_count": null,
   "metadata": {},
   "outputs": [],
   "source": [
    "disc.binner_dict_['tenure']"
   ]
  },
  {
   "cell_type": "markdown",
   "metadata": {},
   "source": [
    "Create a map to replace the `tenure` variable with more informative levels."
   ]
  },
  {
   "cell_type": "code",
   "execution_count": null,
   "metadata": {},
   "outputs": [],
   "source": [
    "n_classes = len(tenure_map) - 1\n",
    "classes_ranges = disc.binner_dict_['tenure'][1:-1]\n",
    "\n",
    "labels_map = {}\n",
    "for n in range(0, n_classes):\n",
    "    if n == 0:\n",
    "        labels_map[n] = f\"<{classes_ranges[0]}\"\n",
    "    elif n == n_classes-1:\n",
    "        labels_map[n] = f\"+{classes_ranges[-1]}\"\n",
    "    else:\n",
    "        labels_map[n] = f\"{classes_ranges[n-1]} to {classes_ranges[n]}\"\n",
    "\n",
    "labels_map\n"
   ]
  },
  {
   "cell_type": "markdown",
   "metadata": {},
   "source": [
    "Replace using `.replace()`"
   ]
  },
  {
   "cell_type": "code",
   "execution_count": null,
   "metadata": {},
   "outputs": [],
   "source": [
    "df_parallel['tenure'] = df_parallel['tenure'].replace(labels_map)\n",
    "df_parallel.head()"
   ]
  },
  {
   "cell_type": "markdown",
   "metadata": {},
   "source": [
    "Creates multi-dimensional categorical data plot"
   ]
  },
  {
   "cell_type": "code",
   "execution_count": null,
   "metadata": {},
   "outputs": [],
   "source": [
    "import plotly.express as px\n",
    "df_parallel['Churn'] = df_parallel['Churn'].apply(lambda x: 0 if x == 'No' else 1)\n",
    "fig = px.parallel_categories(df_parallel, color=\"Churn\")\n",
    "fig.show()"
   ]
  },
  {
   "cell_type": "markdown",
   "metadata": {},
   "source": [
    "---"
   ]
  },
  {
   "cell_type": "markdown",
   "metadata": {},
   "source": [
    "# Conclusions and Next steps"
   ]
  },
  {
   "cell_type": "markdown",
   "metadata": {},
   "source": [
    "What can we gather from the correlation study:\n",
    "* A churned customer typically has a month-to-month contract.\n",
    "* A churned customer typically has low tenure levels.\n",
    "* A churned customer typically doesn't have online backup.\n",
    "* A churned customer typically doesn't have online security.\n",
    "* A churned customer typically doesn't have tech support."
   ]
  }
 ],
 "metadata": {
  "kernelspec": {
   "display_name": ".venv",
   "language": "python",
   "name": "python3"
  },
  "language_info": {
   "codemirror_mode": {
    "name": "ipython",
    "version": 3
   },
   "file_extension": ".py",
   "mimetype": "text/x-python",
   "name": "python",
   "nbconvert_exporter": "python",
   "pygments_lexer": "ipython3",
   "version": "3.12.7"
  }
 },
 "nbformat": 4,
 "nbformat_minor": 2
}
